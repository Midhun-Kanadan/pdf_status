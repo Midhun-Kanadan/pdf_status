{
 "cells": [
  {
   "cell_type": "code",
   "execution_count": 2,
   "metadata": {},
   "outputs": [
    {
     "name": "stdout",
     "output_type": "stream",
     "text": [
      "Total PDFs: 12330\n"
     ]
    }
   ],
   "source": [
    "import os\n",
    "import json\n",
    "\n",
    "def count_pdfs(folder_path):\n",
    "    pdf_count = 0\n",
    "    for root, dirs, files in os.walk(folder_path):\n",
    "        pdf_count += sum(1 for file in files if file.lower().endswith('.pdf'))\n",
    "    return pdf_count\n",
    "\n",
    "folder_path = r\"D:\\IR Anthology Dataset\"\n",
    "pdf_count = count_pdfs(folder_path)\n",
    "\n",
    "# # Update JSON for Shields.io\n",
    "# status = {\"schemaVersion\": 1, \"label\": \"PDFs\", \"message\": str(pdf_count), \"color\": \"blue\"}\n",
    "# with open(\"pdf_status.json\", \"w\") as f:\n",
    "#     json.dump(status, f)\n",
    "\n",
    "print(f\"Total PDFs: {pdf_count}\")\n"
   ]
  }
 ],
 "metadata": {
  "kernelspec": {
   "display_name": "Midhun",
   "language": "python",
   "name": "python3"
  },
  "language_info": {
   "codemirror_mode": {
    "name": "ipython",
    "version": 3
   },
   "file_extension": ".py",
   "mimetype": "text/x-python",
   "name": "python",
   "nbconvert_exporter": "python",
   "pygments_lexer": "ipython3",
   "version": "3.12.7"
  }
 },
 "nbformat": 4,
 "nbformat_minor": 2
}
